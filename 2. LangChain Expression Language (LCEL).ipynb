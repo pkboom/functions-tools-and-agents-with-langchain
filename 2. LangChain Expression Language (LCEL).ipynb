{
 "cells": [
  {
   "cell_type": "markdown",
   "metadata": {},
   "source": [
    "# LangChain Expression Language (LCEL)"
   ]
  },
  {
   "cell_type": "code",
   "execution_count": 1,
   "metadata": {},
   "outputs": [],
   "source": [
    "import os\n",
    "import openai\n",
    "\n",
    "from dotenv import load_dotenv, find_dotenv\n",
    "\n",
    "load_dotenv(find_dotenv())\n",
    "openai.api_key = os.environ['OPENAI_API_KEY']"
   ]
  },
  {
   "cell_type": "code",
   "execution_count": 2,
   "metadata": {},
   "outputs": [],
   "source": [
    "# %pip install pydantic==1.10.8\n",
    "\n",
    "from langchain.prompts import ChatPromptTemplate\n",
    "from langchain.chat_models import ChatOpenAI\n",
    "from langchain.schema.output_parser import StrOutputParser"
   ]
  },
  {
   "cell_type": "markdown",
   "metadata": {},
   "source": [
    "## Simple Chain"
   ]
  },
  {
   "cell_type": "code",
   "execution_count": 3,
   "metadata": {},
   "outputs": [
    {
     "data": {
      "text/plain": [
       "\"Why don't bears wear shoes? \\n\\nBecause they have bear feet!\""
      ]
     },
     "execution_count": 3,
     "metadata": {},
     "output_type": "execute_result"
    }
   ],
   "source": [
    "prompt = ChatPromptTemplate.from_template(\n",
    "    \"tell me a short joke about {topic}\"\n",
    ")\n",
    "model = ChatOpenAI()\n",
    "output_parser = StrOutputParser()\n",
    "\n",
    "chain = prompt | model | output_parser\n",
    "\n",
    "chain.invoke({\"topic\": \"bears\"}) # inputs of the prompt template"
   ]
  },
  {
   "cell_type": "markdown",
   "metadata": {},
   "source": [
    "## More complex chain\n",
    "\n",
    "And Runnable Map to supply user-provided inputs to the prompt."
   ]
  },
  {
   "cell_type": "code",
   "execution_count": 4,
   "metadata": {},
   "outputs": [],
   "source": [
    "# %pip install \"docarray\""
   ]
  },
  {
   "cell_type": "code",
   "execution_count": 5,
   "metadata": {},
   "outputs": [],
   "source": [
    "from langchain.embeddings import OpenAIEmbeddings\n",
    "from langchain.vectorstores import DocArrayInMemorySearch"
   ]
  },
  {
   "cell_type": "code",
   "execution_count": 6,
   "metadata": {},
   "outputs": [
    {
     "ename": "AttributeError",
     "evalue": "'builtin_function_or_method' object has no attribute '__func__'",
     "output_type": "error",
     "traceback": [
      "\u001b[0;31m---------------------------------------------------------------------------\u001b[0m",
      "\u001b[0;31mAttributeError\u001b[0m                            Traceback (most recent call last)",
      "\u001b[1;32m/Users/keunbae/code/functions-tools-and-agents-with-langchain/2. LangChain Expression Language (LCEL).ipynb Cell 9\u001b[0m line \u001b[0;36m1\n\u001b[0;32m----> <a href='vscode-notebook-cell:/Users/keunbae/code/functions-tools-and-agents-with-langchain/2.%20LangChain%20Expression%20Language%20%28LCEL%29.ipynb#X10sZmlsZQ%3D%3D?line=0'>1</a>\u001b[0m vectorstore \u001b[39m=\u001b[39m DocArrayInMemorySearch\u001b[39m.\u001b[39;49mfrom_texts(\n\u001b[1;32m      <a href='vscode-notebook-cell:/Users/keunbae/code/functions-tools-and-agents-with-langchain/2.%20LangChain%20Expression%20Language%20%28LCEL%29.ipynb#X10sZmlsZQ%3D%3D?line=1'>2</a>\u001b[0m     [\u001b[39m\"\u001b[39;49m\u001b[39mharrison worked at kensho\u001b[39;49m\u001b[39m\"\u001b[39;49m, \u001b[39m\"\u001b[39;49m\u001b[39mbears like to eat honey\u001b[39;49m\u001b[39m\"\u001b[39;49m],\n\u001b[1;32m      <a href='vscode-notebook-cell:/Users/keunbae/code/functions-tools-and-agents-with-langchain/2.%20LangChain%20Expression%20Language%20%28LCEL%29.ipynb#X10sZmlsZQ%3D%3D?line=2'>3</a>\u001b[0m     embedding\u001b[39m=\u001b[39;49mOpenAIEmbeddings()\n\u001b[1;32m      <a href='vscode-notebook-cell:/Users/keunbae/code/functions-tools-and-agents-with-langchain/2.%20LangChain%20Expression%20Language%20%28LCEL%29.ipynb#X10sZmlsZQ%3D%3D?line=3'>4</a>\u001b[0m )\n\u001b[1;32m      <a href='vscode-notebook-cell:/Users/keunbae/code/functions-tools-and-agents-with-langchain/2.%20LangChain%20Expression%20Language%20%28LCEL%29.ipynb#X10sZmlsZQ%3D%3D?line=5'>6</a>\u001b[0m retriever \u001b[39m=\u001b[39m vectorstore\u001b[39m.\u001b[39mas_retriever()\n",
      "File \u001b[0;32m/opt/homebrew/anaconda3/envs/functionToolsAgentsWithLangchain/lib/python3.12/site-packages/langchain/vectorstores/docarray/in_memory.py:67\u001b[0m, in \u001b[0;36mDocArrayInMemorySearch.from_texts\u001b[0;34m(cls, texts, embedding, metadatas, **kwargs)\u001b[0m\n\u001b[1;32m     45\u001b[0m \u001b[39m@classmethod\u001b[39m\n\u001b[1;32m     46\u001b[0m \u001b[39mdef\u001b[39;00m \u001b[39mfrom_texts\u001b[39m(\n\u001b[1;32m     47\u001b[0m     \u001b[39mcls\u001b[39m,\n\u001b[0;32m   (...)\u001b[0m\n\u001b[1;32m     51\u001b[0m     \u001b[39m*\u001b[39m\u001b[39m*\u001b[39mkwargs: Any,\n\u001b[1;32m     52\u001b[0m ) \u001b[39m-\u001b[39m\u001b[39m>\u001b[39m DocArrayInMemorySearch:\n\u001b[1;32m     53\u001b[0m \u001b[39m    \u001b[39m\u001b[39m\"\"\"Create an DocArrayInMemorySearch store and insert data.\u001b[39;00m\n\u001b[1;32m     54\u001b[0m \n\u001b[1;32m     55\u001b[0m \u001b[39m    Args:\u001b[39;00m\n\u001b[0;32m   (...)\u001b[0m\n\u001b[1;32m     65\u001b[0m \u001b[39m        DocArrayInMemorySearch Vector Store\u001b[39;00m\n\u001b[1;32m     66\u001b[0m \u001b[39m    \"\"\"\u001b[39;00m\n\u001b[0;32m---> 67\u001b[0m     store \u001b[39m=\u001b[39m \u001b[39mcls\u001b[39;49m\u001b[39m.\u001b[39;49mfrom_params(embedding, \u001b[39m*\u001b[39;49m\u001b[39m*\u001b[39;49mkwargs)\n\u001b[1;32m     68\u001b[0m     store\u001b[39m.\u001b[39madd_texts(texts\u001b[39m=\u001b[39mtexts, metadatas\u001b[39m=\u001b[39mmetadatas)\n\u001b[1;32m     69\u001b[0m     \u001b[39mreturn\u001b[39;00m store\n",
      "File \u001b[0;32m/opt/homebrew/anaconda3/envs/functionToolsAgentsWithLangchain/lib/python3.12/site-packages/langchain/vectorstores/docarray/in_memory.py:38\u001b[0m, in \u001b[0;36mDocArrayInMemorySearch.from_params\u001b[0;34m(cls, embedding, metric, **kwargs)\u001b[0m\n\u001b[1;32m     20\u001b[0m \u001b[39m@classmethod\u001b[39m\n\u001b[1;32m     21\u001b[0m \u001b[39mdef\u001b[39;00m \u001b[39mfrom_params\u001b[39m(\n\u001b[1;32m     22\u001b[0m     \u001b[39mcls\u001b[39m,\n\u001b[0;32m   (...)\u001b[0m\n\u001b[1;32m     27\u001b[0m     \u001b[39m*\u001b[39m\u001b[39m*\u001b[39mkwargs: Any,\n\u001b[1;32m     28\u001b[0m ) \u001b[39m-\u001b[39m\u001b[39m>\u001b[39m DocArrayInMemorySearch:\n\u001b[1;32m     29\u001b[0m \u001b[39m    \u001b[39m\u001b[39m\"\"\"Initialize DocArrayInMemorySearch store.\u001b[39;00m\n\u001b[1;32m     30\u001b[0m \n\u001b[1;32m     31\u001b[0m \u001b[39m    Args:\u001b[39;00m\n\u001b[0;32m   (...)\u001b[0m\n\u001b[1;32m     36\u001b[0m \u001b[39m        **kwargs: Other keyword arguments to be passed to the get_doc_cls method.\u001b[39;00m\n\u001b[1;32m     37\u001b[0m \u001b[39m    \"\"\"\u001b[39;00m\n\u001b[0;32m---> 38\u001b[0m     _check_docarray_import()\n\u001b[1;32m     39\u001b[0m     \u001b[39mfrom\u001b[39;00m \u001b[39mdocarray\u001b[39;00m\u001b[39m.\u001b[39;00m\u001b[39mindex\u001b[39;00m \u001b[39mimport\u001b[39;00m InMemoryExactNNIndex\n\u001b[1;32m     41\u001b[0m     doc_cls \u001b[39m=\u001b[39m \u001b[39mcls\u001b[39m\u001b[39m.\u001b[39m_get_doc_cls(space\u001b[39m=\u001b[39mmetric, \u001b[39m*\u001b[39m\u001b[39m*\u001b[39mkwargs)\n",
      "File \u001b[0;32m/opt/homebrew/anaconda3/envs/functionToolsAgentsWithLangchain/lib/python3.12/site-packages/langchain/vectorstores/docarray/base.py:19\u001b[0m, in \u001b[0;36m_check_docarray_import\u001b[0;34m()\u001b[0m\n\u001b[1;32m     17\u001b[0m \u001b[39mdef\u001b[39;00m \u001b[39m_check_docarray_import\u001b[39m() \u001b[39m-\u001b[39m\u001b[39m>\u001b[39m \u001b[39mNone\u001b[39;00m:\n\u001b[1;32m     18\u001b[0m     \u001b[39mtry\u001b[39;00m:\n\u001b[0;32m---> 19\u001b[0m         \u001b[39mimport\u001b[39;00m \u001b[39mdocarray\u001b[39;00m\n\u001b[1;32m     21\u001b[0m         da_version \u001b[39m=\u001b[39m docarray\u001b[39m.\u001b[39m__version__\u001b[39m.\u001b[39msplit(\u001b[39m\"\u001b[39m\u001b[39m.\u001b[39m\u001b[39m\"\u001b[39m)\n\u001b[1;32m     22\u001b[0m         \u001b[39mif\u001b[39;00m \u001b[39mint\u001b[39m(da_version[\u001b[39m0\u001b[39m]) \u001b[39m==\u001b[39m \u001b[39m0\u001b[39m \u001b[39mand\u001b[39;00m \u001b[39mint\u001b[39m(da_version[\u001b[39m1\u001b[39m]) \u001b[39m<\u001b[39m\u001b[39m=\u001b[39m \u001b[39m31\u001b[39m:\n",
      "File \u001b[0;32m/opt/homebrew/anaconda3/envs/functionToolsAgentsWithLangchain/lib/python3.12/site-packages/docarray/__init__.py:5\u001b[0m\n\u001b[1;32m      1\u001b[0m __version__ \u001b[39m=\u001b[39m \u001b[39m'\u001b[39m\u001b[39m0.39.1\u001b[39m\u001b[39m'\u001b[39m\n\u001b[1;32m      3\u001b[0m \u001b[39mimport\u001b[39;00m \u001b[39mlogging\u001b[39;00m\n\u001b[0;32m----> 5\u001b[0m \u001b[39mfrom\u001b[39;00m \u001b[39mdocarray\u001b[39;00m\u001b[39m.\u001b[39;00m\u001b[39marray\u001b[39;00m \u001b[39mimport\u001b[39;00m DocList, DocVec\n\u001b[1;32m      6\u001b[0m \u001b[39mfrom\u001b[39;00m \u001b[39mdocarray\u001b[39;00m\u001b[39m.\u001b[39;00m\u001b[39mbase_doc\u001b[39;00m\u001b[39m.\u001b[39;00m\u001b[39mdoc\u001b[39;00m \u001b[39mimport\u001b[39;00m BaseDoc\n\u001b[1;32m      7\u001b[0m \u001b[39mfrom\u001b[39;00m \u001b[39mdocarray\u001b[39;00m\u001b[39m.\u001b[39;00m\u001b[39mutils\u001b[39;00m\u001b[39m.\u001b[39;00m\u001b[39m_internal\u001b[39;00m\u001b[39m.\u001b[39;00m\u001b[39mmisc\u001b[39;00m \u001b[39mimport\u001b[39;00m _get_path_from_docarray_root_level\n",
      "File \u001b[0;32m/opt/homebrew/anaconda3/envs/functionToolsAgentsWithLangchain/lib/python3.12/site-packages/docarray/array/__init__.py:2\u001b[0m\n\u001b[1;32m      1\u001b[0m \u001b[39mfrom\u001b[39;00m \u001b[39mdocarray\u001b[39;00m\u001b[39m.\u001b[39;00m\u001b[39marray\u001b[39;00m\u001b[39m.\u001b[39;00m\u001b[39many_array\u001b[39;00m \u001b[39mimport\u001b[39;00m AnyDocArray\n\u001b[0;32m----> 2\u001b[0m \u001b[39mfrom\u001b[39;00m \u001b[39mdocarray\u001b[39;00m\u001b[39m.\u001b[39;00m\u001b[39marray\u001b[39;00m\u001b[39m.\u001b[39;00m\u001b[39mdoc_list\u001b[39;00m\u001b[39m.\u001b[39;00m\u001b[39mdoc_list\u001b[39;00m \u001b[39mimport\u001b[39;00m DocList\n\u001b[1;32m      3\u001b[0m \u001b[39mfrom\u001b[39;00m \u001b[39mdocarray\u001b[39;00m\u001b[39m.\u001b[39;00m\u001b[39marray\u001b[39;00m\u001b[39m.\u001b[39;00m\u001b[39mdoc_vec\u001b[39;00m\u001b[39m.\u001b[39;00m\u001b[39mdoc_vec\u001b[39;00m \u001b[39mimport\u001b[39;00m DocVec\n\u001b[1;32m      5\u001b[0m __all__ \u001b[39m=\u001b[39m [\u001b[39m'\u001b[39m\u001b[39mDocList\u001b[39m\u001b[39m'\u001b[39m, \u001b[39m'\u001b[39m\u001b[39mDocVec\u001b[39m\u001b[39m'\u001b[39m, \u001b[39m'\u001b[39m\u001b[39mAnyDocArray\u001b[39m\u001b[39m'\u001b[39m]\n",
      "File \u001b[0;32m/opt/homebrew/anaconda3/envs/functionToolsAgentsWithLangchain/lib/python3.12/site-packages/docarray/array/doc_list/doc_list.py:51\u001b[0m\n\u001b[1;32m     43\u001b[0m T \u001b[39m=\u001b[39m TypeVar(\u001b[39m'\u001b[39m\u001b[39mT\u001b[39m\u001b[39m'\u001b[39m, bound\u001b[39m=\u001b[39m\u001b[39m'\u001b[39m\u001b[39mDocList\u001b[39m\u001b[39m'\u001b[39m)\n\u001b[1;32m     44\u001b[0m T_doc \u001b[39m=\u001b[39m TypeVar(\u001b[39m'\u001b[39m\u001b[39mT_doc\u001b[39m\u001b[39m'\u001b[39m, bound\u001b[39m=\u001b[39mBaseDocWithoutId)\n\u001b[1;32m     47\u001b[0m \u001b[39mclass\u001b[39;00m \u001b[39mDocList\u001b[39;00m(\n\u001b[1;32m     48\u001b[0m     ListAdvancedIndexing[T_doc],\n\u001b[1;32m     49\u001b[0m     PushPullMixin,\n\u001b[1;32m     50\u001b[0m     IOMixinDocList,\n\u001b[0;32m---> 51\u001b[0m     AnyDocArray[T_doc],\n\u001b[1;32m     52\u001b[0m ):\n\u001b[1;32m     53\u001b[0m \u001b[39m    \u001b[39m\u001b[39m\"\"\"\u001b[39;00m\n\u001b[1;32m     54\u001b[0m \u001b[39m     DocList is a container of Documents.\u001b[39;00m\n\u001b[1;32m     55\u001b[0m \n\u001b[0;32m   (...)\u001b[0m\n\u001b[1;32m    121\u001b[0m \n\u001b[1;32m    122\u001b[0m \u001b[39m    \"\"\"\u001b[39;00m\n\u001b[1;32m    124\u001b[0m     doc_type: Type[BaseDocWithoutId] \u001b[39m=\u001b[39m AnyDoc\n",
      "File \u001b[0;32m/opt/homebrew/anaconda3/envs/functionToolsAgentsWithLangchain/lib/python3.12/site-packages/docarray/array/any_array.py:54\u001b[0m, in \u001b[0;36mAnyDocArray.__class_getitem__\u001b[0;34m(cls, item)\u001b[0m\n\u001b[1;32m     51\u001b[0m \u001b[39m@classmethod\u001b[39m\n\u001b[1;32m     52\u001b[0m \u001b[39mdef\u001b[39;00m \u001b[39m__class_getitem__\u001b[39m(\u001b[39mcls\u001b[39m, item: Union[Type[BaseDocWithoutId], TypeVar, \u001b[39mstr\u001b[39m]):\n\u001b[1;32m     53\u001b[0m     \u001b[39mif\u001b[39;00m \u001b[39mnot\u001b[39;00m \u001b[39misinstance\u001b[39m(item, \u001b[39mtype\u001b[39m):\n\u001b[0;32m---> 54\u001b[0m         \u001b[39mreturn\u001b[39;00m Generic\u001b[39m.\u001b[39;49m__class_getitem__\u001b[39m.\u001b[39;49m\u001b[39m__func__\u001b[39;49m(\u001b[39mcls\u001b[39m, item)  \u001b[39m# type: ignore\u001b[39;00m\n\u001b[1;32m     55\u001b[0m         \u001b[39m# this do nothing that checking that item is valid type var or str\u001b[39;00m\n\u001b[1;32m     56\u001b[0m     \u001b[39mif\u001b[39;00m \u001b[39mnot\u001b[39;00m safe_issubclass(item, BaseDocWithoutId):\n",
      "\u001b[0;31mAttributeError\u001b[0m: 'builtin_function_or_method' object has no attribute '__func__'"
     ]
    }
   ],
   "source": [
    "\n",
    "vectorstore = DocArrayInMemorySearch.from_texts(\n",
    "    [\"harrison worked at kensho\", \"bears like to eat honey\"],\n",
    "    embedding=OpenAIEmbeddings()\n",
    ")\n",
    "\n",
    "retriever = vectorstore.as_retriever()"
   ]
  },
  {
   "cell_type": "code",
   "execution_count": null,
   "metadata": {},
   "outputs": [],
   "source": [
    "\n",
    "retriever.get_relevant_documents(\"where did harrison work?\")\n",
    "\n",
    "retriever.get_relevant_documents(\"what do bears like to eat\")"
   ]
  },
  {
   "cell_type": "markdown",
   "metadata": {},
   "source": [
    "<img src=\"images/langchain1.png\">"
   ]
  },
  {
   "cell_type": "code",
   "execution_count": null,
   "metadata": {},
   "outputs": [],
   "source": [
    "\n",
    "template = \"\"\"Answer the question based only on the following context:\n",
    "{context}\n",
    "\n",
    "Question: {question}\n",
    "\"\"\"\n",
    "prompt = ChatPromptTemplate.from_template(template)\n",
    "\n",
    "from langchain.schema.runnable import RunnableMap\n",
    "\n",
    "chain = RunnableMap({\n",
    "    \"context\": lambda x: retriever.get_relevant_documents(x[\"question\"]),\n",
    "    \"question\": lambda x: x[\"question\"]\n",
    "}) | prompt | model | output_parser\n",
    "\n",
    "chain.invoke({\"question\": \"where did harrison work?\"})\n",
    "\n",
    "inputs = RunnableMap({\n",
    "    \"context\": lambda x: retriever.get_relevant_documents(x[\"question\"]),\n",
    "    \"question\": lambda x: x[\"question\"]\n",
    "})\n",
    "\n",
    "inputs.invoke({\"question\": \"where did harrison work?\"})"
   ]
  }
 ],
 "metadata": {
  "kernelspec": {
   "display_name": "functionToolsAgentsWithLangchain",
   "language": "python",
   "name": "python3"
  },
  "language_info": {
   "codemirror_mode": {
    "name": "ipython",
    "version": 3
   },
   "file_extension": ".py",
   "mimetype": "text/x-python",
   "name": "python",
   "nbconvert_exporter": "python",
   "pygments_lexer": "ipython3",
   "version": "3.12.0"
  }
 },
 "nbformat": 4,
 "nbformat_minor": 2
}
