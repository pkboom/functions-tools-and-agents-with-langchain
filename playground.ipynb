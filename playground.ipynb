{
 "cells": [
  {
   "cell_type": "code",
   "execution_count": 7,
   "metadata": {},
   "outputs": [
    {
     "name": "stdout",
     "output_type": "stream",
     "text": [
      "asdf asdf What is your name?\n"
     ]
    }
   ],
   "source": [
    "func = lambda x: x[\"question\"]\n",
    "\n",
    "print(f'asdf asdf {func({\"question\": \"What is your name?\"})}')\n"
   ]
  }
 ],
 "metadata": {
  "kernelspec": {
   "display_name": "functionToolsAgentsWithLangchain",
   "language": "python",
   "name": "python3"
  },
  "language_info": {
   "codemirror_mode": {
    "name": "ipython",
    "version": 3
   },
   "file_extension": ".py",
   "mimetype": "text/x-python",
   "name": "python",
   "nbconvert_exporter": "python",
   "pygments_lexer": "ipython3",
   "version": "3.11.6"
  }
 },
 "nbformat": 4,
 "nbformat_minor": 2
}
